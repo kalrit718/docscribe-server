{
 "cells": [
  {
   "cell_type": "code",
   "execution_count": 4,
   "id": "f21657e1-691e-4afc-ace4-a0c35b773261",
   "metadata": {
    "execution": {
     "iopub.execute_input": "2024-04-08T15:24:51.948237Z",
     "iopub.status.busy": "2024-04-08T15:24:51.947499Z",
     "iopub.status.idle": "2024-04-08T15:24:51.951357Z",
     "shell.execute_reply": "2024-04-08T15:24:51.950918Z",
     "shell.execute_reply.started": "2024-04-08T15:24:51.948205Z"
    }
   },
   "outputs": [],
   "source": [
    "# !pip install langid\n",
    "# !pip3 install --upgrade torch torchvision torchaudio --index-url https://download.pytorch.org/whl/cu118\n",
    "# !pip install --upgrade transformers"
   ]
  },
  {
   "cell_type": "code",
   "execution_count": 5,
   "id": "d5fa2fe1-ed4f-43f8-9a73-1ca2d7af9b33",
   "metadata": {
    "execution": {
     "iopub.execute_input": "2024-04-08T15:24:54.248357Z",
     "iopub.status.busy": "2024-04-08T15:24:54.247777Z",
     "iopub.status.idle": "2024-04-08T15:24:54.915704Z",
     "shell.execute_reply": "2024-04-08T15:24:54.914907Z",
     "shell.execute_reply.started": "2024-04-08T15:24:54.248333Z"
    }
   },
   "outputs": [],
   "source": [
    "import os\n",
    "import json\n",
    "import pandas as pd\n",
    "import langid\n",
    "from tqdm.auto import tqdm"
   ]
  },
  {
   "cell_type": "code",
   "execution_count": 6,
   "id": "7a674115-86af-4805-b108-efbbe5e4c03d",
   "metadata": {
    "execution": {
     "iopub.execute_input": "2024-04-08T15:24:56.531034Z",
     "iopub.status.busy": "2024-04-08T15:24:56.530094Z",
     "iopub.status.idle": "2024-04-08T15:24:56.534464Z",
     "shell.execute_reply": "2024-04-08T15:24:56.533988Z",
     "shell.execute_reply.started": "2024-04-08T15:24:56.530986Z"
    }
   },
   "outputs": [],
   "source": []
  },
  {
   "cell_type": "code",
   "execution_count": 8,
   "id": "892db198-8f92-422d-b95c-16e1cdc1b208",
   "metadata": {
    "execution": {
     "iopub.execute_input": "2024-04-08T15:25:03.574025Z",
     "iopub.status.busy": "2024-04-08T15:25:03.573234Z",
     "iopub.status.idle": "2024-04-08T15:25:03.580745Z",
     "shell.execute_reply": "2024-04-08T15:25:03.580094Z",
     "shell.execute_reply.started": "2024-04-08T15:25:03.573984Z"
    }
   },
   "outputs": [],
   "source": [
    "def is_english(line):\n",
    "  lang, _ = langid.classify(line)\n",
    "  return lang == 'en'\n",
    "\n",
    "def clean_unnecessary_data(dataset_file):\n",
    "  jsonl_array = []\n",
    "  json_array = []\n",
    "  keys_to_keep = [\"code\", \"docstring\"]\n",
    "\n",
    "  Lines = dataset_file.readlines()\n",
    "\n",
    "  count = 0\n",
    "  for line in Lines:\n",
    "    count += 1\n",
    "    json_object = json.loads(line.strip())\n",
    "    filtered_json_object = {key: json_object[key] for key in keys_to_keep if key in json_object}\n",
    "    jsonl_array.append(filtered_json_object)\n",
    "  \n",
    "  df = pd.DataFrame(jsonl_array)\n",
    "  for ind in tqdm(df.index):\n",
    "    docstring_line = df['docstring'][ind].replace('#', ' ')\n",
    "    docstring_line = docstring_line.replace('*', ' ')\n",
    "    docstring_lines = docstring_line.split(\"\\n\")\n",
    "    cleaned_docstring = ' '.join(line.strip() for line in docstring_lines \n",
    "                                 if ('@' not in line.strip() and '**' not in line.strip() and is_english(line)))\n",
    "\n",
    "    altered_json_object = {\"codeblock\": df['code'][ind], \"docstring\": cleaned_docstring}\n",
    "    \n",
    "    if df['code'][ind].strip().startswith('function'):\n",
    "      if cleaned_docstring.strip():\n",
    "        json_array.append(altered_json_object)\n",
    "  df = pd.DataFrame(json_array)\n",
    "  return df"
   ]
  },
  {
   "cell_type": "code",
   "execution_count": 9,
   "id": "f9ed4a89-6328-4b56-82dc-0d60331d78a9",
   "metadata": {
    "execution": {
     "iopub.execute_input": "2024-04-08T15:25:05.844271Z",
     "iopub.status.busy": "2024-04-08T15:25:05.843548Z",
     "iopub.status.idle": "2024-04-08T15:25:05.874779Z",
     "shell.execute_reply": "2024-04-08T15:25:05.874238Z",
     "shell.execute_reply.started": "2024-04-08T15:25:05.844237Z"
    }
   },
   "outputs": [],
   "source": [
    "dataset_train_files = [\n",
    "    open('dataset/javascript_train_0.jsonl'),\n",
    "    open('dataset/javascript_train_1.jsonl'),\n",
    "    open('dataset/javascript_train_2.jsonl'),\n",
    "    open('dataset/javascript_train_3.jsonl'),\n",
    "    open('dataset/javascript_train_4.jsonl')\n",
    "]\n",
    "dataset_valid_file = open('dataset/javascript_valid_0.jsonl')\n",
    "dataset_test_file = open('dataset/javascript_test_0.jsonl')"
   ]
  },
  {
   "cell_type": "code",
   "execution_count": 10,
   "id": "56e8e0c3-95bc-4393-aaff-3573c54da045",
   "metadata": {
    "execution": {
     "iopub.execute_input": "2024-04-08T15:25:15.354348Z",
     "iopub.status.busy": "2024-04-08T15:25:15.353725Z",
     "iopub.status.idle": "2024-04-08T15:40:29.866544Z",
     "shell.execute_reply": "2024-04-08T15:40:29.865871Z",
     "shell.execute_reply.started": "2024-04-08T15:25:15.354313Z"
    }
   },
   "outputs": [
    {
     "data": {
      "application/vnd.jupyter.widget-view+json": {
       "model_id": "200429858fac4dcc915bafeefff0c38b",
       "version_major": 2,
       "version_minor": 0
      },
      "text/plain": [
       "  0%|          | 0/30000 [00:00<?, ?it/s]"
      ]
     },
     "metadata": {},
     "output_type": "display_data"
    },
    {
     "data": {
      "application/vnd.jupyter.widget-view+json": {
       "model_id": "251ef1fe23a94d83806aee7c94b1a680",
       "version_major": 2,
       "version_minor": 0
      },
      "text/plain": [
       "  0%|          | 0/30000 [00:00<?, ?it/s]"
      ]
     },
     "metadata": {},
     "output_type": "display_data"
    },
    {
     "data": {
      "application/vnd.jupyter.widget-view+json": {
       "model_id": "5681c30386b14da38a72bd78e4bf5bc4",
       "version_major": 2,
       "version_minor": 0
      },
      "text/plain": [
       "  0%|          | 0/30000 [00:00<?, ?it/s]"
      ]
     },
     "metadata": {},
     "output_type": "display_data"
    },
    {
     "data": {
      "application/vnd.jupyter.widget-view+json": {
       "model_id": "8d79f5dee88641de9ec6dc80ec177061",
       "version_major": 2,
       "version_minor": 0
      },
      "text/plain": [
       "  0%|          | 0/30000 [00:00<?, ?it/s]"
      ]
     },
     "metadata": {},
     "output_type": "display_data"
    },
    {
     "data": {
      "application/vnd.jupyter.widget-view+json": {
       "model_id": "41d8e274b08c4944ba1ebb4b01704f90",
       "version_major": 2,
       "version_minor": 0
      },
      "text/plain": [
       "  0%|          | 0/3889 [00:00<?, ?it/s]"
      ]
     },
     "metadata": {},
     "output_type": "display_data"
    },
    {
     "data": {
      "application/vnd.jupyter.widget-view+json": {
       "model_id": "778afde80c21466aac66d543845e4e12",
       "version_major": 2,
       "version_minor": 0
      },
      "text/plain": [
       "  0%|          | 0/8253 [00:00<?, ?it/s]"
      ]
     },
     "metadata": {},
     "output_type": "display_data"
    },
    {
     "data": {
      "application/vnd.jupyter.widget-view+json": {
       "model_id": "d1e9a0b0ad4d40d0bdb4521da0894dfb",
       "version_major": 2,
       "version_minor": 0
      },
      "text/plain": [
       "  0%|          | 0/6483 [00:00<?, ?it/s]"
      ]
     },
     "metadata": {},
     "output_type": "display_data"
    }
   ],
   "source": [
    "df_train = pd.concat([\n",
    "    clean_unnecessary_data(dataset_train_files[0]),\n",
    "    clean_unnecessary_data(dataset_train_files[1]),\n",
    "    clean_unnecessary_data(dataset_train_files[2]),\n",
    "    clean_unnecessary_data(dataset_train_files[3]),\n",
    "    clean_unnecessary_data(dataset_train_files[4])\n",
    "])\n",
    "df_valid = clean_unnecessary_data(dataset_valid_file)\n",
    "df_test = clean_unnecessary_data(dataset_test_file)"
   ]
  },
  {
   "cell_type": "code",
   "execution_count": 11,
   "id": "939f1b83-c9e0-410a-a717-201b25f74129",
   "metadata": {
    "execution": {
     "iopub.execute_input": "2024-04-08T15:40:34.022919Z",
     "iopub.status.busy": "2024-04-08T15:40:34.022201Z",
     "iopub.status.idle": "2024-04-08T15:40:34.035223Z",
     "shell.execute_reply": "2024-04-08T15:40:34.034422Z",
     "shell.execute_reply.started": "2024-04-08T15:40:34.022884Z"
    }
   },
   "outputs": [
    {
     "data": {
      "text/html": [
       "<div>\n",
       "<style scoped>\n",
       "    .dataframe tbody tr th:only-of-type {\n",
       "        vertical-align: middle;\n",
       "    }\n",
       "\n",
       "    .dataframe tbody tr th {\n",
       "        vertical-align: top;\n",
       "    }\n",
       "\n",
       "    .dataframe thead th {\n",
       "        text-align: right;\n",
       "    }\n",
       "</style>\n",
       "<table border=\"1\" class=\"dataframe\">\n",
       "  <thead>\n",
       "    <tr style=\"text-align: right;\">\n",
       "      <th></th>\n",
       "      <th>codeblock</th>\n",
       "      <th>docstring</th>\n",
       "    </tr>\n",
       "  </thead>\n",
       "  <tbody>\n",
       "    <tr>\n",
       "      <th>0</th>\n",
       "      <td>function createTypeScriptLanguageService(optio...</td>\n",
       "      <td>region Discovery, LanguageService &amp; Setup</td>\n",
       "    </tr>\n",
       "    <tr>\n",
       "      <th>1</th>\n",
       "      <td>function discoverAndReadFiles(options) {\\n    ...</td>\n",
       "      <td>Read imports and follow them until all files h...</td>\n",
       "    </tr>\n",
       "    <tr>\n",
       "      <th>2</th>\n",
       "      <td>function getRealNodeSymbol(checker, node) {\\n ...</td>\n",
       "      <td>Returns the node's symbol and the `import` nod...</td>\n",
       "    </tr>\n",
       "    <tr>\n",
       "      <th>3</th>\n",
       "      <td>function shouldSkipAlias(node, declaration) {\\...</td>\n",
       "      <td>Go to the original declaration for cases:  (1)...</td>\n",
       "    </tr>\n",
       "    <tr>\n",
       "      <th>4</th>\n",
       "      <td>function getTokenAtPosition(sourceFile, positi...</td>\n",
       "      <td>Get the token whose text contains the position</td>\n",
       "    </tr>\n",
       "  </tbody>\n",
       "</table>\n",
       "</div>"
      ],
      "text/plain": [
       "                                           codeblock  \\\n",
       "0  function createTypeScriptLanguageService(optio...   \n",
       "1  function discoverAndReadFiles(options) {\\n    ...   \n",
       "2  function getRealNodeSymbol(checker, node) {\\n ...   \n",
       "3  function shouldSkipAlias(node, declaration) {\\...   \n",
       "4  function getTokenAtPosition(sourceFile, positi...   \n",
       "\n",
       "                                           docstring  \n",
       "0          region Discovery, LanguageService & Setup  \n",
       "1  Read imports and follow them until all files h...  \n",
       "2  Returns the node's symbol and the `import` nod...  \n",
       "3  Go to the original declaration for cases:  (1)...  \n",
       "4     Get the token whose text contains the position  "
      ]
     },
     "execution_count": 11,
     "metadata": {},
     "output_type": "execute_result"
    }
   ],
   "source": [
    "df_train.head()"
   ]
  },
  {
   "cell_type": "code",
   "execution_count": 12,
   "id": "2be2fc2a-a400-479b-acdb-714ed9fb4c4d",
   "metadata": {
    "execution": {
     "iopub.execute_input": "2024-04-08T15:40:36.384381Z",
     "iopub.status.busy": "2024-04-08T15:40:36.384109Z",
     "iopub.status.idle": "2024-04-08T15:40:36.391773Z",
     "shell.execute_reply": "2024-04-08T15:40:36.390900Z",
     "shell.execute_reply.started": "2024-04-08T15:40:36.384359Z"
    }
   },
   "outputs": [
    {
     "data": {
      "text/html": [
       "<div>\n",
       "<style scoped>\n",
       "    .dataframe tbody tr th:only-of-type {\n",
       "        vertical-align: middle;\n",
       "    }\n",
       "\n",
       "    .dataframe tbody tr th {\n",
       "        vertical-align: top;\n",
       "    }\n",
       "\n",
       "    .dataframe thead th {\n",
       "        text-align: right;\n",
       "    }\n",
       "</style>\n",
       "<table border=\"1\" class=\"dataframe\">\n",
       "  <thead>\n",
       "    <tr style=\"text-align: right;\">\n",
       "      <th></th>\n",
       "      <th>codeblock</th>\n",
       "      <th>docstring</th>\n",
       "    </tr>\n",
       "  </thead>\n",
       "  <tbody>\n",
       "    <tr>\n",
       "      <th>0</th>\n",
       "      <td>function getCounts(langs = []) {\\n    return {...</td>\n",
       "      <td>Compute the overall total counts of models and...</td>\n",
       "    </tr>\n",
       "    <tr>\n",
       "      <th>1</th>\n",
       "      <td>function className(node, value){\\n    var klas...</td>\n",
       "      <td>access className property while respecting SVG...</td>\n",
       "    </tr>\n",
       "    <tr>\n",
       "      <th>2</th>\n",
       "      <td>function deserializeValue(value) {\\n    try {\\...</td>\n",
       "      <td>\"true\"  =&gt; true \"false\" =&gt; false \"null\"  =&gt; nu...</td>\n",
       "    </tr>\n",
       "    <tr>\n",
       "      <th>3</th>\n",
       "      <td>function parseArguments(url, data, success, da...</td>\n",
       "      <td>handle optional data/success arguments</td>\n",
       "    </tr>\n",
       "    <tr>\n",
       "      <th>4</th>\n",
       "      <td>function once (fn) {\\n  let called = false\\n  ...</td>\n",
       "      <td>in Webpack 2, require.ensure now also returns ...</td>\n",
       "    </tr>\n",
       "  </tbody>\n",
       "</table>\n",
       "</div>"
      ],
      "text/plain": [
       "                                           codeblock  \\\n",
       "0  function getCounts(langs = []) {\\n    return {...   \n",
       "1  function className(node, value){\\n    var klas...   \n",
       "2  function deserializeValue(value) {\\n    try {\\...   \n",
       "3  function parseArguments(url, data, success, da...   \n",
       "4  function once (fn) {\\n  let called = false\\n  ...   \n",
       "\n",
       "                                           docstring  \n",
       "0  Compute the overall total counts of models and...  \n",
       "1  access className property while respecting SVG...  \n",
       "2  \"true\"  => true \"false\" => false \"null\"  => nu...  \n",
       "3             handle optional data/success arguments  \n",
       "4  in Webpack 2, require.ensure now also returns ...  "
      ]
     },
     "execution_count": 12,
     "metadata": {},
     "output_type": "execute_result"
    }
   ],
   "source": [
    "df_valid.head()"
   ]
  },
  {
   "cell_type": "code",
   "execution_count": 13,
   "id": "b2ada139-6616-4415-8d87-8f1dfec6e73a",
   "metadata": {
    "execution": {
     "iopub.execute_input": "2024-04-08T15:40:38.951594Z",
     "iopub.status.busy": "2024-04-08T15:40:38.950822Z",
     "iopub.status.idle": "2024-04-08T15:40:38.958676Z",
     "shell.execute_reply": "2024-04-08T15:40:38.957864Z",
     "shell.execute_reply.started": "2024-04-08T15:40:38.951569Z"
    }
   },
   "outputs": [
    {
     "data": {
      "text/html": [
       "<div>\n",
       "<style scoped>\n",
       "    .dataframe tbody tr th:only-of-type {\n",
       "        vertical-align: middle;\n",
       "    }\n",
       "\n",
       "    .dataframe tbody tr th {\n",
       "        vertical-align: top;\n",
       "    }\n",
       "\n",
       "    .dataframe thead th {\n",
       "        text-align: right;\n",
       "    }\n",
       "</style>\n",
       "<table border=\"1\" class=\"dataframe\">\n",
       "  <thead>\n",
       "    <tr style=\"text-align: right;\">\n",
       "      <th></th>\n",
       "      <th>codeblock</th>\n",
       "      <th>docstring</th>\n",
       "    </tr>\n",
       "  </thead>\n",
       "  <tbody>\n",
       "    <tr>\n",
       "      <th>0</th>\n",
       "      <td>function createInstance(defaultConfig) {\\n  va...</td>\n",
       "      <td>Create an instance of Axios</td>\n",
       "    </tr>\n",
       "    <tr>\n",
       "      <th>1</th>\n",
       "      <td>function CancelToken(executor) {\\n  if (typeof...</td>\n",
       "      <td>A `CancelToken` is an object that can be used ...</td>\n",
       "    </tr>\n",
       "    <tr>\n",
       "      <th>2</th>\n",
       "      <td>function isArrayBufferView(val) {\\n  var resul...</td>\n",
       "      <td>Determine if a value is a view on an ArrayBuffer</td>\n",
       "    </tr>\n",
       "    <tr>\n",
       "      <th>3</th>\n",
       "      <td>function isStandardBrowserEnv() {\\n  if (typeo...</td>\n",
       "      <td>Determine if we're running in a standard brows...</td>\n",
       "    </tr>\n",
       "    <tr>\n",
       "      <th>4</th>\n",
       "      <td>function forEach(obj, fn) {\\n  // Don't bother...</td>\n",
       "      <td>Iterate over an Array or an Object invoking a ...</td>\n",
       "    </tr>\n",
       "  </tbody>\n",
       "</table>\n",
       "</div>"
      ],
      "text/plain": [
       "                                           codeblock  \\\n",
       "0  function createInstance(defaultConfig) {\\n  va...   \n",
       "1  function CancelToken(executor) {\\n  if (typeof...   \n",
       "2  function isArrayBufferView(val) {\\n  var resul...   \n",
       "3  function isStandardBrowserEnv() {\\n  if (typeo...   \n",
       "4  function forEach(obj, fn) {\\n  // Don't bother...   \n",
       "\n",
       "                                           docstring  \n",
       "0                       Create an instance of Axios   \n",
       "1  A `CancelToken` is an object that can be used ...  \n",
       "2  Determine if a value is a view on an ArrayBuffer   \n",
       "3  Determine if we're running in a standard brows...  \n",
       "4  Iterate over an Array or an Object invoking a ...  "
      ]
     },
     "execution_count": 13,
     "metadata": {},
     "output_type": "execute_result"
    }
   ],
   "source": [
    "df_test.head()"
   ]
  },
  {
   "cell_type": "code",
   "execution_count": 14,
   "id": "4b815c38-7004-4700-a32e-286b315d0a1c",
   "metadata": {
    "execution": {
     "iopub.execute_input": "2024-04-08T15:40:41.627786Z",
     "iopub.status.busy": "2024-04-08T15:40:41.626988Z",
     "iopub.status.idle": "2024-04-08T15:40:41.633392Z",
     "shell.execute_reply": "2024-04-08T15:40:41.632774Z",
     "shell.execute_reply.started": "2024-04-08T15:40:41.627749Z"
    }
   },
   "outputs": [
    {
     "data": {
      "text/plain": [
       "(109944, 7435, 5758)"
      ]
     },
     "execution_count": 14,
     "metadata": {},
     "output_type": "execute_result"
    }
   ],
   "source": [
    "len(df_train), len(df_valid), len(df_test)"
   ]
  },
  {
   "cell_type": "code",
   "execution_count": 15,
   "id": "3ef4aa48-9703-4bb8-a171-a1cdcf0f5277",
   "metadata": {
    "execution": {
     "iopub.execute_input": "2024-04-08T15:40:45.832352Z",
     "iopub.status.busy": "2024-04-08T15:40:45.831234Z",
     "iopub.status.idle": "2024-04-08T15:40:54.762961Z",
     "shell.execute_reply": "2024-04-08T15:40:54.762175Z",
     "shell.execute_reply.started": "2024-04-08T15:40:45.832312Z"
    }
   },
   "outputs": [],
   "source": [
    "df_train['code_tokens'] = df_train.codeblock.apply(lambda x: x.split())\n",
    "df_train['docstring_tokens'] = df_train.docstring.apply(lambda x: x.split())\n",
    "with open(f'cleaned_{os.path.basename(dataset_train_files[0].name)}','w') as f:\n",
    "  for _, row in df_train.iterrows():\n",
    "    f.write(json.dumps(row.to_dict()) + '\\n')\n",
    "\n",
    "df_valid['code_tokens'] = df_valid.codeblock.apply(lambda x: x.split())\n",
    "df_valid['docstring_tokens'] = df_valid.docstring.apply(lambda x: x.split())\n",
    "with open(f'cleaned_{os.path.basename(dataset_valid_file.name)}','w') as f:\n",
    "  for _, row in df_valid.iterrows():\n",
    "    f.write(json.dumps(row.to_dict()) + '\\n')\n",
    "\n",
    "df_test['code_tokens'] = df_test.codeblock.apply(lambda x: x.split())\n",
    "df_test['docstring_tokens'] = df_test.docstring.apply(lambda x: x.split())\n",
    "with open(f'cleaned_{os.path.basename(dataset_test_file.name)}','w') as f:\n",
    "  for _, row in df_test.iterrows():\n",
    "    f.write(json.dumps(row.to_dict()) + '\\n')"
   ]
  },
  {
   "cell_type": "code",
   "execution_count": null,
   "id": "426c0d99-9342-40d3-8cdf-b028ef6c7813",
   "metadata": {},
   "outputs": [],
   "source": [
    "lr = 1e-5\n",
    "batch_size = 20\n",
    "epochs = 40\n",
    "beam_size = 10\n",
    "source_length = 256\n",
    "target_length = 128\n",
    "weight_decay = 0.001\n",
    "gradient_accumulation_steps = 4\n",
    "model_type = 'roberta'\n",
    "pretrained_model = 'microsoft/codebert-base'\n",
    "output_dir = 'model/javascript'\n",
    "train_file = f'cleaned_{os.path.basename(dataset_train_files[0].name)}'\n",
    "dev_file = f'cleaned_{os.path.basename(dataset_valid_file.name)}'\n",
    "test_file = f'cleaned_{os.path.basename(dataset_test_file.name)}'\n",
    "load_model_path = 'force_save_pytorch_model.bin'"
   ]
  },
  {
   "cell_type": "code",
   "execution_count": 16,
   "id": "51bc2228-ce0c-42b6-be58-a160f7bc8094",
   "metadata": {
    "execution": {
     "iopub.execute_input": "2024-04-08T15:51:16.440827Z",
     "iopub.status.busy": "2024-04-08T15:51:16.440110Z",
     "iopub.status.idle": "2024-04-08T18:02:28.075264Z",
     "shell.execute_reply": "2024-04-08T18:02:28.074322Z",
     "shell.execute_reply.started": "2024-04-08T15:51:16.440791Z"
    }
   },
   "outputs": [
    {
     "name": "stdout",
     "output_type": "stream",
     "text": [
      "04/08/2024 15:51:19 - INFO - __main__ -   Namespace(model_type='roberta', model_name_or_path='microsoft/codebert-base', output_dir='model/javascript', load_model_path='force_save_pytorch_model.bin', train_filename='cleaned_javascript_train_0.jsonl', dev_filename='cleaned_javascript_valid_0.jsonl', test_filename='cleaned_javascript_valid_0.jsonl', config_name='', tokenizer_name='microsoft/codebert-base', max_source_length=256, max_target_length=128, do_train=True, do_eval=True, do_test=True, force_save=True, do_lower_case=True, no_cuda=False, train_batch_size=20, eval_batch_size=20, gradient_accumulation_steps=1, learning_rate=1e-05, beam_size=10, weight_decay=0.0, adam_epsilon=1e-08, max_grad_norm=1.0, num_train_epochs=1, max_steps=-1, eval_steps=-1, train_steps=-1, warmup_steps=0, local_rank=-1, seed=42)\n",
      "04/08/2024 15:51:19 - WARNING - __main__ -   Process rank: -1, device: cuda, n_gpu: 1, distributed training: False\n",
      "config.json: 100%|█████████████████████████████| 498/498 [00:00<00:00, 89.9kB/s]\n",
      "tokenizer_config.json: 100%|█████████████████| 25.0/25.0 [00:00<00:00, 4.60kB/s]\n",
      "vocab.json: 100%|████████████████████████████| 899k/899k [00:00<00:00, 13.2MB/s]\n",
      "merges.txt: 100%|████████████████████████████| 456k/456k [00:00<00:00, 24.8MB/s]\n",
      "special_tokens_map.json: 100%|█████████████████| 150/150 [00:00<00:00, 95.8kB/s]\n",
      "pytorch_model.bin: 100%|██████████████████████| 499M/499M [00:02<00:00, 191MB/s]\n",
      "04/08/2024 15:51:23 - INFO - __main__ -   reload model from force_save_pytorch_model.bin\n",
      "04/08/2024 15:51:33 - INFO - __main__ -   *** Example ***\n",
      "04/08/2024 15:51:33 - INFO - __main__ -   idx: 0\n",
      "04/08/2024 15:51:33 - INFO - __main__ -   source_tokens: ['<s>', 'function', '_create', 'Type', 'Script', 'Language', 'Service', '(', 'options', ')', '_{', '_//', '_Discover', '_referenced', '_files', '_const', '_FIL', 'ES', '_=', '_discover', 'And', 'Read', 'Files', '(', 'options', ');', '_//', '_Add', '_fake', '_usage', '_files', '_options', '.', 'inline', 'Entry', 'Points', '.', 'for', 'Each', '((', 'inline', 'Entry', 'Point', ',', '_index', ')', '_=>', '_{', '_FIL', 'ES', '[', '`', 'inline', 'Entry', 'Point', '.', '${', 'index', '}.', 'ts', '`', ']', '_=', '_inline', 'Entry', 'Point', ';', '_});', '_//', '_Add', '_additional', '_typ', 'ings', '_options', '.', 'typ', 'ings', '.', 'for', 'Each', '((', 'ty', 'ping', ')', '_=>', '_{', '_const', '_file', 'Path', '_=', '_path', '.', 'join', '(', 'options', '.', 's', 'ources', 'Root', ',', '_typing', ');', '_FIL', 'ES', '[', 'ty', 'ping', ']', '_=', '_fs', '.', 'read', 'File', 'Sync', '(', 'file', 'Path', ').', 'to', 'String', '();', '_});', '_//', '_Res', 'olve', '_lib', 's', '_const', '_RES', 'OL', 'V', 'ED', '_', 'LI', 'BS', '_=', '_{', '};', '_options', '.', 'lib', 's', '.', 'for', 'Each', '((', 'filename', ')', '_=>', '_{', '_const', '_file', 'path', '_=', '_path', '.', 'join', '(', 'TY', 'P', 'ES', 'CRIP', 'T', '_', 'LIB', '_', 'F', 'OL', 'DER', ',', '_filename', ');', '_RES', 'OL', 'V', 'ED', '_', 'LI', 'BS', '[', '`', 'default', 'Lib', ':', '${', 'filename', '}', '`', ']', '_=', '_fs', '.', 'read', 'File', 'Sync', '(', 'file', 'path', ').', 'to', 'String', '();', '_});', '_const', '_compiler', 'Options', '_=', '_ts', '.', 'con', 'vert', 'Comp', 'iler', 'Options', 'From', 'J', 'son', '(', 'options', '.', 'comp', 'iler', 'Options', ',', '_options', '.', 's', 'ources', 'Root', ').', 'options', ';', '_const', '_host', '_=', '_new', '_Type', 'Script', 'Language', 'Service', 'Host', '(', 'RES', 'OL', 'V', 'ED', '_', 'LI', 'BS', ',', '_FIL', 'ES', ',', '_compiler', 'Options', '</s>']\n",
      "04/08/2024 15:51:33 - INFO - __main__ -   source_ids: 0 35435 1045 40118 30276 46969 32537 1640 45012 43 25522 21277 25087 19800 6773 10759 28392 1723 5457 8286 2409 25439 14824 1640 45012 4397 21277 4287 4486 9453 6773 1735 4 48865 46640 46340 4 1990 20319 48461 48865 46640 20416 6 1965 43 46161 25522 28392 1723 10975 12905 48865 46640 20416 4 49316 18480 48634 1872 12905 742 5457 39491 46640 20416 131 47771 21277 4287 943 33488 1033 1735 4 38321 1033 4 1990 20319 48461 2553 15341 43 46161 25522 10759 2870 42119 5457 2718 4 26960 1640 45012 4 29 39412 46606 6 29691 4397 28392 1723 10975 2553 15341 742 5457 48415 4 12745 9966 41342 1640 21710 42119 322 560 34222 47006 47771 21277 4787 18224 21748 29 10759 15770 3384 846 1691 1215 27049 3297 5457 25522 49423 1735 4 34748 29 4 1990 20319 48461 49451 43 46161 25522 10759 2870 22609 5457 2718 4 26960 1640 6175 510 1723 49101 565 1215 46690 1215 597 3384 28073 6 48786 4397 15770 3384 846 1691 1215 27049 3297 10975 12905 43234 37688 35 49316 49451 24303 12905 742 5457 48415 4 12745 9966 41342 1640 21710 22609 322 560 34222 47006 47771 10759 44904 47261 5457 42270 4 3865 9942 24699 10329 47261 7605 863 1478 1640 45012 4 11828 10329 47261 6 1735 4 29 39412 46606 322 45012 131 10759 1482 5457 92 7773 30276 46969 32537 40534 1640 32030 3384 846 1691 1215 27049 3297 6 28392 1723 6 44904 47261 2\n",
      "04/08/2024 15:51:33 - INFO - __main__ -   source_mask: 1 1 1 1 1 1 1 1 1 1 1 1 1 1 1 1 1 1 1 1 1 1 1 1 1 1 1 1 1 1 1 1 1 1 1 1 1 1 1 1 1 1 1 1 1 1 1 1 1 1 1 1 1 1 1 1 1 1 1 1 1 1 1 1 1 1 1 1 1 1 1 1 1 1 1 1 1 1 1 1 1 1 1 1 1 1 1 1 1 1 1 1 1 1 1 1 1 1 1 1 1 1 1 1 1 1 1 1 1 1 1 1 1 1 1 1 1 1 1 1 1 1 1 1 1 1 1 1 1 1 1 1 1 1 1 1 1 1 1 1 1 1 1 1 1 1 1 1 1 1 1 1 1 1 1 1 1 1 1 1 1 1 1 1 1 1 1 1 1 1 1 1 1 1 1 1 1 1 1 1 1 1 1 1 1 1 1 1 1 1 1 1 1 1 1 1 1 1 1 1 1 1 1 1 1 1 1 1 1 1 1 1 1 1 1 1 1 1 1 1 1 1 1 1 1 1 1 1 1 1 1 1 1 1 1 1 1 1 1 1 1 1 1 1 1 1 1 1 1 1 1 1 1 1 1 1\n",
      "04/08/2024 15:51:33 - INFO - __main__ -   target_tokens: ['<s>', 'region', '_Discovery', ',', '_Language', 'Service', '_&', '_Setup', '</s>']\n",
      "04/08/2024 15:51:33 - INFO - __main__ -   target_ids: 0 37140 14735 6 22205 32537 359 45524 2 1 1 1 1 1 1 1 1 1 1 1 1 1 1 1 1 1 1 1 1 1 1 1 1 1 1 1 1 1 1 1 1 1 1 1 1 1 1 1 1 1 1 1 1 1 1 1 1 1 1 1 1 1 1 1 1 1 1 1 1 1 1 1 1 1 1 1 1 1 1 1 1 1 1 1 1 1 1 1 1 1 1 1 1 1 1 1 1 1 1 1 1 1 1 1 1 1 1 1 1 1 1 1 1 1 1 1 1 1 1 1 1 1 1 1 1 1 1 1\n",
      "04/08/2024 15:51:33 - INFO - __main__ -   target_mask: 1 1 1 1 1 1 1 1 1 0 0 0 0 0 0 0 0 0 0 0 0 0 0 0 0 0 0 0 0 0 0 0 0 0 0 0 0 0 0 0 0 0 0 0 0 0 0 0 0 0 0 0 0 0 0 0 0 0 0 0 0 0 0 0 0 0 0 0 0 0 0 0 0 0 0 0 0 0 0 0 0 0 0 0 0 0 0 0 0 0 0 0 0 0 0 0 0 0 0 0 0 0 0 0 0 0 0 0 0 0 0 0 0 0 0 0 0 0 0 0 0 0 0 0 0 0 0 0\n",
      "04/08/2024 15:51:33 - INFO - __main__ -   *** Example ***\n",
      "04/08/2024 15:51:33 - INFO - __main__ -   idx: 1\n",
      "04/08/2024 15:51:33 - INFO - __main__ -   source_tokens: ['<s>', 'function', '_discover', 'And', 'Read', 'Files', '(', 'options', ')', '_{', '_const', '_FIL', 'ES', '_=', '_{', '};', '_const', '_in', '_', 'queue', '_=', '_Object', '.', 'create', '(', 'null', ');', '_const', '_queue', '_=', '_[];', '_const', '_en', 'queue', '_=', '_(', 'module', 'Id', ')', '_=>', '_{', '_if', '_(', 'in', '_', 'queue', '[', 'module', 'Id', '])', '_{', '_return', ';', '_}', '_in', '_', 'queue', '[', 'module', 'Id', ']', '_=', '_true', ';', '_queue', '.', 'push', '(', 'module', 'Id', ');', '_};', '_options', '.', 'entry', 'Points', '.', 'for', 'Each', '((', 'entry', 'Point', ')', '_=>', '_en', 'queue', '(', 'entry', 'Point', '));', '_while', '_(', 'queue', '.', 'length', '_>', '_0', ')', '_{', '_const', '_module', 'Id', '_=', '_queue', '.', 'shift', '();', '_const', '_d', 'ts', '_', 'filename', '_=', '_path', '.', 'join', '(', 'options', '.', 's', 'ources', 'Root', ',', '_module', 'Id', '_+', \"_'.\", 'd', '.', 'ts', \"');\", '_if', '_(', 'fs', '.', 'ex', 'ists', 'Sync', '(', 'd', 'ts', '_', 'filename', '))', '_{', '_const', '_d', 'ts', '_', 'file', 'cont', 'ents', '_=', '_fs', '.', 'read', 'File', 'Sync', '(', 'd', 'ts', '_', 'filename', ').', 'to', 'String', '();', '_FIL', 'ES', '[', '`', '${', 'module', 'Id', '}.', 'd', '.', 'ts', '`', ']', '_=', '_d', 'ts', '_', 'file', 'cont', 'ents', ';', '_continue', ';', '_}', '_const', '_js', '_', 'filename', '_=', '_path', '.', 'join', '(', 'options', '.', 's', 'ources', 'Root', ',', '_module', 'Id', '_+', \"_'.\", 'js', \"');\", '_if', '_(', 'fs', '.', 'ex', 'ists', 'Sync', '(', 'js', '_', 'filename', '))', '_{', '_//', '_This', '_is', '_an', '_import', '_for', '_a', '_.', 'js', '_file', ',', '_so', '_ignore', '_it', '...', '_continue', ';', '_}', '_let', '_ts', '_', 'filename', ';', '_if', '_(', 'options', '.', 'red', 'irect', 's', '</s>']\n",
      "04/08/2024 15:51:33 - INFO - __main__ -   source_ids: 0 35435 8286 2409 25439 14824 1640 45012 43 25522 10759 28392 1723 5457 25522 49423 10759 11 1215 48702 5457 35671 4 32845 1640 15755 4397 10759 21021 5457 48654 10759 1177 48702 5457 36 48095 28081 43 46161 25522 114 36 179 1215 48702 10975 48095 28081 45587 25522 671 131 35524 11 1215 48702 10975 48095 28081 742 5457 1528 131 21021 4 41935 1640 48095 28081 4397 48855 1735 4 12595 46340 4 1990 20319 48461 12595 20416 43 46161 1177 48702 1640 12595 20416 48749 150 36 48702 4 16096 8061 321 43 25522 10759 20686 28081 5457 21021 4 37641 47006 10759 385 1872 1215 49451 5457 2718 4 26960 1640 45012 4 29 39412 46606 6 20686 28081 2055 48694 417 4 1872 47033 114 36 17884 4 3463 1952 41342 1640 417 1872 1215 49451 35122 25522 10759 385 1872 1215 21710 10800 4189 5457 48415 4 12745 9966 41342 1640 417 1872 1215 49451 322 560 34222 47006 28392 1723 10975 12905 49316 48095 28081 48634 417 4 1872 12905 742 5457 385 1872 1215 21710 10800 4189 131 535 131 35524 10759 42898 1215 49451 5457 2718 4 26960 1640 45012 4 29 39412 46606 6 20686 28081 2055 48694 21978 47033 114 36 17884 4 3463 1952 41342 1640 21978 1215 49451 35122 25522 21277 152 16 41 6595 13 10 479 21978 2870 6 98 8861 24 734 535 131 35524 905 42270 1215 49451 131 114 36 45012 4 2050 38806 29 2\n",
      "04/08/2024 15:51:33 - INFO - __main__ -   source_mask: 1 1 1 1 1 1 1 1 1 1 1 1 1 1 1 1 1 1 1 1 1 1 1 1 1 1 1 1 1 1 1 1 1 1 1 1 1 1 1 1 1 1 1 1 1 1 1 1 1 1 1 1 1 1 1 1 1 1 1 1 1 1 1 1 1 1 1 1 1 1 1 1 1 1 1 1 1 1 1 1 1 1 1 1 1 1 1 1 1 1 1 1 1 1 1 1 1 1 1 1 1 1 1 1 1 1 1 1 1 1 1 1 1 1 1 1 1 1 1 1 1 1 1 1 1 1 1 1 1 1 1 1 1 1 1 1 1 1 1 1 1 1 1 1 1 1 1 1 1 1 1 1 1 1 1 1 1 1 1 1 1 1 1 1 1 1 1 1 1 1 1 1 1 1 1 1 1 1 1 1 1 1 1 1 1 1 1 1 1 1 1 1 1 1 1 1 1 1 1 1 1 1 1 1 1 1 1 1 1 1 1 1 1 1 1 1 1 1 1 1 1 1 1 1 1 1 1 1 1 1 1 1 1 1 1 1 1 1 1 1 1 1 1 1 1 1 1 1 1 1 1 1 1 1 1 1\n",
      "04/08/2024 15:51:33 - INFO - __main__ -   target_tokens: ['<s>', 'Read', '_imports', '_and', '_follow', '_them', '_until', '_all', '_files', '_have', '_been', '_handled', '</s>']\n",
      "04/08/2024 15:51:33 - INFO - __main__ -   target_ids: 0 25439 5058 8 1407 106 454 70 6773 33 57 7521 2 1 1 1 1 1 1 1 1 1 1 1 1 1 1 1 1 1 1 1 1 1 1 1 1 1 1 1 1 1 1 1 1 1 1 1 1 1 1 1 1 1 1 1 1 1 1 1 1 1 1 1 1 1 1 1 1 1 1 1 1 1 1 1 1 1 1 1 1 1 1 1 1 1 1 1 1 1 1 1 1 1 1 1 1 1 1 1 1 1 1 1 1 1 1 1 1 1 1 1 1 1 1 1 1 1 1 1 1 1 1 1 1 1 1 1\n",
      "04/08/2024 15:51:33 - INFO - __main__ -   target_mask: 1 1 1 1 1 1 1 1 1 1 1 1 1 0 0 0 0 0 0 0 0 0 0 0 0 0 0 0 0 0 0 0 0 0 0 0 0 0 0 0 0 0 0 0 0 0 0 0 0 0 0 0 0 0 0 0 0 0 0 0 0 0 0 0 0 0 0 0 0 0 0 0 0 0 0 0 0 0 0 0 0 0 0 0 0 0 0 0 0 0 0 0 0 0 0 0 0 0 0 0 0 0 0 0 0 0 0 0 0 0 0 0 0 0 0 0 0 0 0 0 0 0 0 0 0 0 0 0\n",
      "04/08/2024 15:51:33 - INFO - __main__ -   *** Example ***\n",
      "04/08/2024 15:51:33 - INFO - __main__ -   idx: 2\n",
      "04/08/2024 15:51:33 - INFO - __main__ -   source_tokens: ['<s>', 'function', '_get', 'Real', 'Node', 'Sy', 'mbol', '(', 'check', 'er', ',', '_node', ')', '_{', '_const', '_get', 'Property', 'Sy', 'mb', 'ols', 'From', 'Context', 'ual', 'Type', '_=', '_ts', '.', 'get', 'Property', 'Sy', 'mb', 'ols', 'From', 'Context', 'ual', 'Type', ';', '_const', '_get', 'Cont', 'aining', 'Object', 'L', 'it', 'eral', 'Element', '_=', '_ts', '.', 'get', 'Cont', 'aining', 'Object', 'L', 'it', 'eral', 'Element', ';', '_const', '_get', 'Name', 'From', 'Property', 'Name', '_=', '_ts', '.', 'get', 'Name', 'From', 'Property', 'Name', ';', '_//', '_Go', '_to', '_the', '_original', '_declaration', '_for', '_cases', ':', '_//', '_//', '_(', '1', ')', '_when', '_the', '_ali', 'ased', '_symbol', '_was', '_declared', '_in', '_the', '_location', '(', 'parent', ').', '_//', '_(', '2', ')', '_when', '_the', '_ali', 'ased', '_symbol', '_is', '_originating', '_from', '_an', '_import', '.', '_//', '_function', '_should', 'Skip', 'Alias', '(', 'node', ',', '_declaration', ')', '_{', '_if', '_(', 'node', '.', 'kind', '_!', '==', '_ts', '.', 'Sy', 'ntax', 'Kind', '.', 'Ident', 'ifier', ')', '_{', '_return', '_false', ';', '_}', '_if', '_(', 'node', '.', 'parent', '_===', '_declaration', ')', '_{', '_return', '_true', ';', '_}', '_switch', '_(', 'decl', 'aration', '.', 'kind', ')', '_{', '_case', '_ts', '.', 'Sy', 'ntax', 'Kind', '.', 'Import', 'Cl', 'ause', ':', '_case', '_ts', '.', 'Sy', 'ntax', 'Kind', '.', 'Import', 'Equ', 'als', 'Decl', 'aration', ':', '_return', '_true', ';', '_case', '_ts', '.', 'Sy', 'ntax', 'Kind', '.', 'Import', 'Spec', 'ifier', ':', '_return', '_declaration', '.', 'parent', '.', 'kind', '_===', '_ts', '.', 'Sy', 'ntax', 'Kind', '.', 'N', 'amed', 'Im', 'ports', ';', '_default', ':', '_return', '_false', ';', '_}', '_}', '_if', '_(!', 'ts', '.', 'is', 'Sh', 'orth', 'and', 'Property', 'Ass', 'ignment', '(', 'node', '))', '_{', '_if', '_(', 'node', '.', 'get', 'Child', 'Count', '()', '_!', '</s>']\n",
      "04/08/2024 15:51:33 - INFO - __main__ -   source_ids: 0 35435 120 17105 48271 35615 43891 1640 15954 254 6 37908 43 25522 10759 120 44720 35615 6648 11925 7605 48522 5564 40118 5457 42270 4 6460 44720 35615 6648 11925 7605 48522 5564 40118 131 10759 120 26412 8173 46674 574 405 6653 46331 5457 42270 4 6460 26412 8173 46674 574 405 6653 46331 131 10759 120 31723 7605 44720 31723 5457 42270 4 6460 31723 7605 44720 31723 131 21277 2381 7 5 1461 9394 13 1200 35 21277 21277 36 134 43 77 5 27817 11835 7648 21 2998 11 5 2259 1640 20985 322 21277 36 176 43 77 5 27817 11835 7648 16 34864 31 41 6595 4 21277 5043 197 28056 48542 1640 46840 6 9394 43 25522 114 36 46840 4 11584 27785 43292 42270 4 35615 49529 39126 4 46692 24072 43 25522 671 3950 131 35524 114 36 46840 4 20985 47408 9394 43 25522 671 1528 131 35524 5405 36 32639 36466 4 11584 43 25522 403 42270 4 35615 49529 39126 4 41929 11428 17498 35 403 42270 4 35615 49529 39126 4 41929 28568 1536 45788 36466 35 671 1528 131 403 42270 4 35615 49529 39126 4 41929 45032 24072 35 671 9394 4 20985 4 11584 47408 42270 4 35615 49529 39126 4 487 7486 20470 8303 131 6814 35 671 3950 131 35524 35524 114 48209 1872 4 354 3609 22494 463 44720 26039 15645 1640 46840 35122 25522 114 36 46840 4 6460 39487 23329 43048 27785 2\n",
      "04/08/2024 15:51:33 - INFO - __main__ -   source_mask: 1 1 1 1 1 1 1 1 1 1 1 1 1 1 1 1 1 1 1 1 1 1 1 1 1 1 1 1 1 1 1 1 1 1 1 1 1 1 1 1 1 1 1 1 1 1 1 1 1 1 1 1 1 1 1 1 1 1 1 1 1 1 1 1 1 1 1 1 1 1 1 1 1 1 1 1 1 1 1 1 1 1 1 1 1 1 1 1 1 1 1 1 1 1 1 1 1 1 1 1 1 1 1 1 1 1 1 1 1 1 1 1 1 1 1 1 1 1 1 1 1 1 1 1 1 1 1 1 1 1 1 1 1 1 1 1 1 1 1 1 1 1 1 1 1 1 1 1 1 1 1 1 1 1 1 1 1 1 1 1 1 1 1 1 1 1 1 1 1 1 1 1 1 1 1 1 1 1 1 1 1 1 1 1 1 1 1 1 1 1 1 1 1 1 1 1 1 1 1 1 1 1 1 1 1 1 1 1 1 1 1 1 1 1 1 1 1 1 1 1 1 1 1 1 1 1 1 1 1 1 1 1 1 1 1 1 1 1 1 1 1 1 1 1 1 1 1 1 1 1 1 1 1 1 1 1\n",
      "04/08/2024 15:51:33 - INFO - __main__ -   target_tokens: ['<s>', 'Returns', '_the', '_node', \"'s\", '_symbol', '_and', '_the', '_`', 'import', '`', '_node', '_(', 'if', '_the', '_symbol', '_resolved', '_from', '_a', '_different', '_module', ')', '</s>']\n",
      "04/08/2024 15:51:33 - INFO - __main__ -   target_ids: 0 48826 5 37908 18 7648 8 5 22209 41975 12905 37908 36 1594 5 7648 8179 31 10 430 20686 43 2 1 1 1 1 1 1 1 1 1 1 1 1 1 1 1 1 1 1 1 1 1 1 1 1 1 1 1 1 1 1 1 1 1 1 1 1 1 1 1 1 1 1 1 1 1 1 1 1 1 1 1 1 1 1 1 1 1 1 1 1 1 1 1 1 1 1 1 1 1 1 1 1 1 1 1 1 1 1 1 1 1 1 1 1 1 1 1 1 1 1 1 1 1 1 1 1 1 1 1 1 1 1 1 1 1\n",
      "04/08/2024 15:51:33 - INFO - __main__ -   target_mask: 1 1 1 1 1 1 1 1 1 1 1 1 1 1 1 1 1 1 1 1 1 1 1 0 0 0 0 0 0 0 0 0 0 0 0 0 0 0 0 0 0 0 0 0 0 0 0 0 0 0 0 0 0 0 0 0 0 0 0 0 0 0 0 0 0 0 0 0 0 0 0 0 0 0 0 0 0 0 0 0 0 0 0 0 0 0 0 0 0 0 0 0 0 0 0 0 0 0 0 0 0 0 0 0 0 0 0 0 0 0 0 0 0 0 0 0 0 0 0 0 0 0 0 0 0 0 0 0\n",
      "04/08/2024 15:51:33 - INFO - __main__ -   *** Example ***\n",
      "04/08/2024 15:51:33 - INFO - __main__ -   idx: 3\n",
      "04/08/2024 15:51:33 - INFO - __main__ -   source_tokens: ['<s>', 'function', '_should', 'Skip', 'Alias', '(', 'node', ',', '_declaration', ')', '_{', '_if', '_(', 'node', '.', 'kind', '_!', '==', '_ts', '.', 'Sy', 'ntax', 'Kind', '.', 'Ident', 'ifier', ')', '_{', '_return', '_false', ';', '_}', '_if', '_(', 'node', '.', 'parent', '_===', '_declaration', ')', '_{', '_return', '_true', ';', '_}', '_switch', '_(', 'decl', 'aration', '.', 'kind', ')', '_{', '_case', '_ts', '.', 'Sy', 'ntax', 'Kind', '.', 'Import', 'Cl', 'ause', ':', '_case', '_ts', '.', 'Sy', 'ntax', 'Kind', '.', 'Import', 'Equ', 'als', 'Decl', 'aration', ':', '_return', '_true', ';', '_case', '_ts', '.', 'Sy', 'ntax', 'Kind', '.', 'Import', 'Spec', 'ifier', ':', '_return', '_declaration', '.', 'parent', '.', 'kind', '_===', '_ts', '.', 'Sy', 'ntax', 'Kind', '.', 'N', 'amed', 'Im', 'ports', ';', '_default', ':', '_return', '_false', ';', '_}', '_}', '</s>']\n",
      "04/08/2024 15:51:33 - INFO - __main__ -   source_ids: 0 35435 197 28056 48542 1640 46840 6 9394 43 25522 114 36 46840 4 11584 27785 43292 42270 4 35615 49529 39126 4 46692 24072 43 25522 671 3950 131 35524 114 36 46840 4 20985 47408 9394 43 25522 671 1528 131 35524 5405 36 32639 36466 4 11584 43 25522 403 42270 4 35615 49529 39126 4 41929 11428 17498 35 403 42270 4 35615 49529 39126 4 41929 28568 1536 45788 36466 35 671 1528 131 403 42270 4 35615 49529 39126 4 41929 45032 24072 35 671 9394 4 20985 4 11584 47408 42270 4 35615 49529 39126 4 487 7486 20470 8303 131 6814 35 671 3950 131 35524 35524 2 1 1 1 1 1 1 1 1 1 1 1 1 1 1 1 1 1 1 1 1 1 1 1 1 1 1 1 1 1 1 1 1 1 1 1 1 1 1 1 1 1 1 1 1 1 1 1 1 1 1 1 1 1 1 1 1 1 1 1 1 1 1 1 1 1 1 1 1 1 1 1 1 1 1 1 1 1 1 1 1 1 1 1 1 1 1 1 1 1 1 1 1 1 1 1 1 1 1 1 1 1 1 1 1 1 1 1 1 1 1 1 1 1 1 1 1 1 1 1 1 1 1 1 1 1 1 1 1 1 1 1 1 1 1 1 1 1 1 1\n",
      "04/08/2024 15:51:33 - INFO - __main__ -   source_mask: 1 1 1 1 1 1 1 1 1 1 1 1 1 1 1 1 1 1 1 1 1 1 1 1 1 1 1 1 1 1 1 1 1 1 1 1 1 1 1 1 1 1 1 1 1 1 1 1 1 1 1 1 1 1 1 1 1 1 1 1 1 1 1 1 1 1 1 1 1 1 1 1 1 1 1 1 1 1 1 1 1 1 1 1 1 1 1 1 1 1 1 1 1 1 1 1 1 1 1 1 1 1 1 1 1 1 1 1 1 1 1 1 1 1 1 1 1 0 0 0 0 0 0 0 0 0 0 0 0 0 0 0 0 0 0 0 0 0 0 0 0 0 0 0 0 0 0 0 0 0 0 0 0 0 0 0 0 0 0 0 0 0 0 0 0 0 0 0 0 0 0 0 0 0 0 0 0 0 0 0 0 0 0 0 0 0 0 0 0 0 0 0 0 0 0 0 0 0 0 0 0 0 0 0 0 0 0 0 0 0 0 0 0 0 0 0 0 0 0 0 0 0 0 0 0 0 0 0 0 0 0 0 0 0 0 0 0 0 0 0 0 0 0 0 0 0 0 0 0 0 0 0 0 0 0 0\n",
      "04/08/2024 15:51:33 - INFO - __main__ -   target_tokens: ['<s>', 'Go', '_to', '_the', '_original', '_declaration', '_for', '_cases', ':', '_(', '1', ')', '_when', '_the', '_ali', 'ased', '_symbol', '_was', '_declared', '_in', '_the', '_location', '(', 'parent', ').', '_(', '2', ')', '_when', '_the', '_ali', 'ased', '_symbol', '_is', '_originating', '_from', '_an', '_import', '.', '</s>']\n",
      "04/08/2024 15:51:33 - INFO - __main__ -   target_ids: 0 11478 7 5 1461 9394 13 1200 35 36 134 43 77 5 27817 11835 7648 21 2998 11 5 2259 1640 20985 322 36 176 43 77 5 27817 11835 7648 16 34864 31 41 6595 4 2 1 1 1 1 1 1 1 1 1 1 1 1 1 1 1 1 1 1 1 1 1 1 1 1 1 1 1 1 1 1 1 1 1 1 1 1 1 1 1 1 1 1 1 1 1 1 1 1 1 1 1 1 1 1 1 1 1 1 1 1 1 1 1 1 1 1 1 1 1 1 1 1 1 1 1 1 1 1 1 1 1 1 1 1 1 1 1 1\n",
      "04/08/2024 15:51:33 - INFO - __main__ -   target_mask: 1 1 1 1 1 1 1 1 1 1 1 1 1 1 1 1 1 1 1 1 1 1 1 1 1 1 1 1 1 1 1 1 1 1 1 1 1 1 1 1 0 0 0 0 0 0 0 0 0 0 0 0 0 0 0 0 0 0 0 0 0 0 0 0 0 0 0 0 0 0 0 0 0 0 0 0 0 0 0 0 0 0 0 0 0 0 0 0 0 0 0 0 0 0 0 0 0 0 0 0 0 0 0 0 0 0 0 0 0 0 0 0 0 0 0 0 0 0 0 0 0 0 0 0 0 0 0 0\n",
      "04/08/2024 15:51:33 - INFO - __main__ -   *** Example ***\n",
      "04/08/2024 15:51:33 - INFO - __main__ -   idx: 4\n",
      "04/08/2024 15:51:33 - INFO - __main__ -   source_tokens: ['<s>', 'function', '_get', 'Token', 'At', 'Position', '(', 'source', 'File', ',', '_position', ',', '_allow', 'Position', 'In', 'Lead', 'ing', 'Trivia', ',', '_include', 'End', 'Position', ')', '_{', '_let', '_current', '_=', '_source', 'File', ';', '_outer', ':', '_while', '_(', 'true', ')', '_{', '_//', '_find', '_the', '_child', '_that', '_contains', \"_'\", 'position', \"'\", '_for', '_(', 'const', '_child', '_of', '_current', '.', 'get', 'Children', '())', '_{', '_const', '_start', '_=', '_allow', 'Position', 'In', 'Lead', 'ing', 'Trivia', '_?', '_child', '.', 'get', 'Full', 'Start', '()', '_:', '_child', '.', 'get', 'Start', '(', 'source', 'File', ',', '_/*', 'include', 'Js', 'Doc', '*/', '_true', ');', '_if', '_(', 'start', '_>', '_position', ')', '_{', '_//', '_If', '_this', '_child', '_begins', '_after', '_position', ',', '_then', '_all', '_subsequent', '_children', '_will', '_as', '_well', '.', '_break', ';', '_}', '_const', '_end', '_=', '_child', '.', 'get', 'End', '();', '_if', '_(', 'position', '_<', '_end', '_||', '_(', 'position', '_===', '_end', '_&&', '_(', 'child', '.', 'kind', '_===', '_ts', '.', 'Sy', 'ntax', 'Kind', '.', 'End', 'Of', 'File', 'Token', '_||', '_include', 'End', 'Position', ')))', '_{', '_current', '_=', '_child', ';', '_continue', '_outer', ';', '_}', '_}', '_return', '_current', ';', '_}', '_}', '</s>']\n",
      "04/08/2024 15:51:33 - INFO - __main__ -   source_ids: 0 35435 120 45643 3750 46884 1640 17747 9966 6 737 6 1157 46884 1121 32258 154 49245 6 680 18547 46884 43 25522 905 595 5457 1300 9966 131 15705 35 150 36 29225 43 25522 21277 465 5 920 14 6308 128 14413 108 13 36 20836 920 9 595 4 6460 31008 49338 25522 10759 386 5457 1157 46884 1121 32258 154 49245 17487 920 4 6460 31440 33724 43048 4832 920 4 6460 33724 1640 17747 9966 6 48565 47209 44962 42291 48835 1528 4397 114 36 13124 8061 737 43 25522 21277 318 42 920 3772 71 737 6 172 70 7757 408 40 25 157 4 1108 131 35524 10759 253 5457 920 4 6460 18547 47006 114 36 14413 28696 253 45056 36 14413 47408 253 48200 36 14069 4 11584 47408 42270 4 35615 49529 39126 4 18547 10643 9966 45643 45056 680 18547 46884 47619 25522 595 5457 920 131 535 15705 131 35524 35524 671 595 131 35524 35524 2 1 1 1 1 1 1 1 1 1 1 1 1 1 1 1 1 1 1 1 1 1 1 1 1 1 1 1 1 1 1 1 1 1 1 1 1 1 1 1 1 1 1 1 1 1 1 1 1 1 1 1 1 1 1 1 1 1 1 1 1 1 1 1 1 1 1 1 1 1 1 1 1 1 1 1 1 1 1 1 1 1 1 1 1 1 1\n",
      "04/08/2024 15:51:33 - INFO - __main__ -   source_mask: 1 1 1 1 1 1 1 1 1 1 1 1 1 1 1 1 1 1 1 1 1 1 1 1 1 1 1 1 1 1 1 1 1 1 1 1 1 1 1 1 1 1 1 1 1 1 1 1 1 1 1 1 1 1 1 1 1 1 1 1 1 1 1 1 1 1 1 1 1 1 1 1 1 1 1 1 1 1 1 1 1 1 1 1 1 1 1 1 1 1 1 1 1 1 1 1 1 1 1 1 1 1 1 1 1 1 1 1 1 1 1 1 1 1 1 1 1 1 1 1 1 1 1 1 1 1 1 1 1 1 1 1 1 1 1 1 1 1 1 1 1 1 1 1 1 1 1 1 1 1 1 1 1 1 1 1 1 1 1 1 1 1 1 1 1 1 1 1 1 1 0 0 0 0 0 0 0 0 0 0 0 0 0 0 0 0 0 0 0 0 0 0 0 0 0 0 0 0 0 0 0 0 0 0 0 0 0 0 0 0 0 0 0 0 0 0 0 0 0 0 0 0 0 0 0 0 0 0 0 0 0 0 0 0 0 0 0 0 0 0 0 0 0 0 0 0 0 0 0 0 0 0 0 0 0 0\n",
      "04/08/2024 15:51:33 - INFO - __main__ -   target_tokens: ['<s>', 'Get', '_the', '_token', '_whose', '_text', '_contains', '_the', '_position', '</s>']\n",
      "04/08/2024 15:51:33 - INFO - __main__ -   target_ids: 0 14181 5 19233 1060 2788 6308 5 737 2 1 1 1 1 1 1 1 1 1 1 1 1 1 1 1 1 1 1 1 1 1 1 1 1 1 1 1 1 1 1 1 1 1 1 1 1 1 1 1 1 1 1 1 1 1 1 1 1 1 1 1 1 1 1 1 1 1 1 1 1 1 1 1 1 1 1 1 1 1 1 1 1 1 1 1 1 1 1 1 1 1 1 1 1 1 1 1 1 1 1 1 1 1 1 1 1 1 1 1 1 1 1 1 1 1 1 1 1 1 1 1 1 1 1 1 1 1 1\n",
      "04/08/2024 15:51:33 - INFO - __main__ -   target_mask: 1 1 1 1 1 1 1 1 1 1 0 0 0 0 0 0 0 0 0 0 0 0 0 0 0 0 0 0 0 0 0 0 0 0 0 0 0 0 0 0 0 0 0 0 0 0 0 0 0 0 0 0 0 0 0 0 0 0 0 0 0 0 0 0 0 0 0 0 0 0 0 0 0 0 0 0 0 0 0 0 0 0 0 0 0 0 0 0 0 0 0 0 0 0 0 0 0 0 0 0 0 0 0 0 0 0 0 0 0 0 0 0 0 0 0 0 0 0 0 0 0 0 0 0 0 0 0 0\n",
      "/usr/local/lib/python3.9/dist-packages/transformers/optimization.py:457: FutureWarning: This implementation of AdamW is deprecated and will be removed in a future version. Use the PyTorch implementation torch.optim.AdamW instead, or set `no_deprecation_warning=True` to disable this warning\n",
      "  warnings.warn(\n",
      "04/08/2024 15:53:31 - INFO - __main__ -   ***** Running training *****\n",
      "04/08/2024 15:53:31 - INFO - __main__ -     Num examples = 109944\n",
      "04/08/2024 15:53:31 - INFO - __main__ -     Batch size = 20\n",
      "04/08/2024 15:53:31 - INFO - __main__ -     Num epoch = 1\n",
      "epoch 0 loss 1.1599: 100%|██████████████████| 5498/5498 [59:20<00:00,  1.54it/s]\n",
      "04/08/2024 16:53:00 - INFO - __main__ -   \n",
      "***** Running evaluation *****\n",
      "04/08/2024 16:53:00 - INFO - __main__ -     Num examples = 7435\n",
      "04/08/2024 16:53:00 - INFO - __main__ -     Batch size = 20\n",
      "04/08/2024 16:54:22 - INFO - __main__ -     eval_ppl = 101.32923\n",
      "04/08/2024 16:54:22 - INFO - __main__ -     global_step = 5499\n",
      "04/08/2024 16:54:22 - INFO - __main__ -     train_loss = 1.1599\n",
      "04/08/2024 16:54:22 - INFO - __main__ -     ********************\n",
      "04/08/2024 16:54:23 - INFO - __main__ -     Best ppl:101.32923\n",
      "04/08/2024 16:54:23 - INFO - __main__ -     ********************\n",
      "/notebooks/model.py:77: UserWarning: The torch.cuda.*DtypeTensor constructors are no longer recommended. It's best to use methods such as torch.tensor(data, dtype=*, device='cuda') to create tensors. (Triggered internally at ../torch/csrc/tensor/python_tensor.cpp:83.)\n",
      "  zero=torch.cuda.LongTensor(1).fill_(0)\n",
      "Total: 1000\n",
      "04/08/2024 16:58:30 - INFO - __main__ -     bleu-4 = 12.76 \n",
      "04/08/2024 16:58:30 - INFO - __main__ -     ********************\n",
      "04/08/2024 16:58:30 - INFO - __main__ -     Best bleu:12.76\n",
      "04/08/2024 16:58:30 - INFO - __main__ -     ********************\n",
      "04/08/2024 16:58:31 - INFO - __main__ -   The model saved to: model/javascript/force-save/force_save_pytorch_model.bin\n",
      "04/08/2024 16:58:31 - INFO - __main__ -   Test file: cleaned_javascript_valid_0.jsonl\n",
      "100%|█████████████████████████████████████████| 372/372 [31:51<00:00,  5.14s/it]\n",
      "Total: 7435\n",
      "04/08/2024 17:30:29 - INFO - __main__ -     bleu-4 = 12.88 \n",
      "04/08/2024 17:30:29 - INFO - __main__ -     ********************\n",
      "04/08/2024 17:30:29 - INFO - __main__ -   Test file: cleaned_javascript_valid_0.jsonl\n",
      "100%|█████████████████████████████████████████| 372/372 [31:48<00:00,  5.13s/it]\n",
      "Total: 7435\n",
      "04/08/2024 18:02:24 - INFO - __main__ -     bleu-4 = 12.88 \n",
      "04/08/2024 18:02:24 - INFO - __main__ -     ********************\n"
     ]
    }
   ],
   "source": [
    "! python run.py \\\n",
    "    --do_train \\\n",
    "    --do_eval \\\n",
    "    --do_test \\\n",
    "    --load_model_path {load_model_path} \\\n",
    "    --learning_rate {lr} \\\n",
    "    --num_train_epochs {epochs} \\\n",
    "    --model_type {model_type} \\\n",
    "    --tokenizer_name {pretrained_model} \\\n",
    "    --model_name_or_path {pretrained_model} \\\n",
    "    --max_source_length {source_length} \\\n",
    "    --max_target_length {target_length} \\\n",
    "    --weight_decay {weight_decay} \\\n",
    "    --gradient_accumulation_steps {gradient_accumulation_steps} \\\n",
    "    --beam_size {beam_size} \\\n",
    "    --train_batch_size {batch_size} \\\n",
    "    --eval_batch_size {batch_size} \\\n",
    "    --do_lower_case \\\n",
    "    --train_filename {train_file} \\\n",
    "    --dev_filename {dev_file} \\\n",
    "    --test_filename {dev_file} \\\n",
    "    --force_save \\\n",
    "    --output_dir {output_dir}"
   ]
  }
 ],
 "metadata": {
  "kernelspec": {
   "display_name": "Python 3 (ipykernel)",
   "language": "python",
   "name": "python3"
  },
  "language_info": {
   "codemirror_mode": {
    "name": "ipython",
    "version": 3
   },
   "file_extension": ".py",
   "mimetype": "text/x-python",
   "name": "python",
   "nbconvert_exporter": "python",
   "pygments_lexer": "ipython3",
   "version": "3.9.16"
  }
 },
 "nbformat": 4,
 "nbformat_minor": 5
}
